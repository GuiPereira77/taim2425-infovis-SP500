{
 "cells": [
  {
   "cell_type": "code",
   "execution_count": 131,
   "metadata": {},
   "outputs": [],
   "source": [
    "import pandas as pd\n",
    "import numpy as np\n",
    "import plotly.express as px"
   ]
  },
  {
   "cell_type": "code",
   "execution_count": 132,
   "metadata": {},
   "outputs": [],
   "source": [
    "sp500 = pd.read_excel('data/s&p500.xlsx')\n",
    "sp500_top10_holders = pd.read_excel('data/sp500_top10_holders.xlsx')"
   ]
  },
  {
   "cell_type": "code",
   "execution_count": null,
   "metadata": {},
   "outputs": [],
   "source": [
    "sp500.head()"
   ]
  },
  {
   "cell_type": "code",
   "execution_count": null,
   "metadata": {},
   "outputs": [],
   "source": [
    "sp500_top10_holders.head()"
   ]
  },
  {
   "cell_type": "code",
   "execution_count": null,
   "metadata": {},
   "outputs": [],
   "source": [
    "# TODO fix headers\n",
    "sp500.columns = sp500.iloc[0]\n",
    "sp500 = sp500[1:]\n",
    "\n",
    "sp500_top10_holders.columns = sp500_top10_holders.iloc[0]\n",
    "sp500_top10_holders = sp500_top10_holders[1:]\n",
    "\n",
    "# TODO join the two dataframes using 'symbol' and 'isin' columns\n",
    "merged_df = pd.merge(sp500_top10_holders, sp500, on=['symbol', 'isin'])\n",
    "# print(merged_df.dtypes)\n",
    "merged_df.describe()"
   ]
  },
  {
   "cell_type": "code",
   "execution_count": 136,
   "metadata": {},
   "outputs": [],
   "source": [
    "# Function to convert values with 'B' and 'M' suffixes to numeric\n",
    "def convert_shares(value):\n",
    "    if 'B' in value:\n",
    "        return float(value.replace('B', '')) * 1e9\n",
    "    elif 'M' in value:\n",
    "        return float(value.replace('M', '')) * 1e6\n",
    "    elif 'k' in value:\n",
    "        return float(value.replace('k', '')) * 1e3\n",
    "    else:\n",
    "        return float(value)\n",
    "\n",
    "# Apply the function to the 'shares' column\n",
    "merged_df['shares'] = merged_df['shares'].apply(convert_shares)"
   ]
  },
  {
   "cell_type": "code",
   "execution_count": null,
   "metadata": {},
   "outputs": [],
   "source": [
    "# List of columns to convert to numeric\n",
    "columns_to_numeric = [\n",
    "    '%', 'value', 'marketCap', 'enterpriseValue', 'totalCash', 'totalCashPerShare',\n",
    "    'ebitda', 'totalDebt', 'quickRatio', 'currentRatio', 'totalRevenue', 'debtToEquity',\n",
    "    'revenuePerShare', 'returnOnAssets', 'returnOnEquity', 'freeCashflow', 'operatingCashflow',\n",
    "    'earningsGrowth', 'revenueGrowth', 'grossMargins', 'ebitdaMargins', 'operatingMargins'\n",
    "]\n",
    "\n",
    "# Convert specified columns to numeric\n",
    "merged_df[columns_to_numeric] = merged_df[columns_to_numeric].apply(pd.to_numeric, errors='coerce')\n",
    "\n",
    "# Display the data types to verify the changes\n",
    "merged_df.head()\n"
   ]
  },
  {
   "cell_type": "markdown",
   "metadata": {},
   "source": [
    "# Treemap"
   ]
  },
  {
   "cell_type": "markdown",
   "metadata": {},
   "source": [
    "## Company -> Shareholder -> Details"
   ]
  },
  {
   "cell_type": "code",
   "execution_count": null,
   "metadata": {},
   "outputs": [],
   "source": [
    "# Create a tree map using plotly.express\n",
    "fig = px.treemap(\n",
    "    merged_df, \n",
    "    path=['symbol', 'name'],\n",
    "    values='value',\n",
    "    color='value', \n",
    "    hover_data=['shares'],\n",
    "    color_continuous_scale='RdBu',\n",
    "    range_color=[0, merged_df['value'].max()],\n",
    "    color_continuous_midpoint=np.average(merged_df['value'], weights=merged_df['shares'])\n",
    ")\n",
    "fig.show()"
   ]
  },
  {
   "cell_type": "markdown",
   "metadata": {},
   "source": [
    "# Circular Packing (?)"
   ]
  },
  {
   "cell_type": "code",
   "execution_count": null,
   "metadata": {},
   "outputs": [],
   "source": []
  }
 ],
 "metadata": {
  "kernelspec": {
   "display_name": "Python 3",
   "language": "python",
   "name": "python3"
  },
  "language_info": {
   "codemirror_mode": {
    "name": "ipython",
    "version": 3
   },
   "file_extension": ".py",
   "mimetype": "text/x-python",
   "name": "python",
   "nbconvert_exporter": "python",
   "pygments_lexer": "ipython3",
   "version": "3.12.7"
  }
 },
 "nbformat": 4,
 "nbformat_minor": 2
}
