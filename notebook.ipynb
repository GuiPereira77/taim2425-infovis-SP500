{
 "cells": [
  {
   "cell_type": "code",
   "execution_count": 61,
   "metadata": {},
   "outputs": [],
   "source": [
    "import pandas as pd\n",
    "import numpy as np\n",
    "import plotly.express as px"
   ]
  },
  {
   "cell_type": "markdown",
   "metadata": {},
   "source": [
    "# Import data"
   ]
  },
  {
   "cell_type": "code",
   "execution_count": 62,
   "metadata": {},
   "outputs": [],
   "source": [
    "sp500 = pd.read_excel('data/s&p500.xlsx')\n",
    "sp500_top10_holders = pd.read_excel('data/sp500_top10_holders.xlsx')"
   ]
  },
  {
   "cell_type": "code",
   "execution_count": 63,
   "metadata": {},
   "outputs": [],
   "source": [
    "# Fix index and column names\n",
    "sp500.columns = sp500.iloc[0]\n",
    "sp500 = sp500[1:]\n",
    "\n",
    "sp500_top10_holders.columns = sp500_top10_holders.iloc[0]\n",
    "sp500_top10_holders = sp500_top10_holders[1:]"
   ]
  },
  {
   "cell_type": "code",
   "execution_count": null,
   "metadata": {},
   "outputs": [],
   "source": [
    "sp500.head()"
   ]
  },
  {
   "cell_type": "markdown",
   "metadata": {},
   "source": [
    "## Clean shareholders table"
   ]
  },
  {
   "cell_type": "code",
   "execution_count": null,
   "metadata": {},
   "outputs": [],
   "source": [
    "# Delete rows 'Top mutual fund holders' in 'class' column\n",
    "sp500_top10_holders = sp500_top10_holders[sp500_top10_holders['class'] != 'Top mutual fund Holders']\n",
    "sp500_top10_holders.shape\n",
    "\n",
    "# Remove duplicated rows\n",
    "sp500_top10_holders = sp500_top10_holders.drop_duplicates()\n",
    "sp500_top10_holders.shape"
   ]
  },
  {
   "cell_type": "markdown",
   "metadata": {},
   "source": [
    "## Merge Data"
   ]
  },
  {
   "cell_type": "code",
   "execution_count": null,
   "metadata": {},
   "outputs": [],
   "source": [
    "merged_df = pd.merge(sp500_top10_holders, sp500, on=['symbol', 'isin'])\n",
    "merged_df.head()"
   ]
  },
  {
   "cell_type": "code",
   "execution_count": null,
   "metadata": {},
   "outputs": [],
   "source": [
    "# merged_df[['isin', 'symbol']].nunique()\n",
    "merged_df.shape\n"
   ]
  },
  {
   "cell_type": "markdown",
   "metadata": {},
   "source": [
    "## Companies not located on US"
   ]
  },
  {
   "cell_type": "code",
   "execution_count": null,
   "metadata": {},
   "outputs": [],
   "source": [
    "merged_df['country'].unique()"
   ]
  },
  {
   "cell_type": "markdown",
   "metadata": {},
   "source": [
    "## Convert values"
   ]
  },
  {
   "cell_type": "code",
   "execution_count": 70,
   "metadata": {},
   "outputs": [],
   "source": [
    "# Function to convert values with 'B' and 'M' suffixes to numeric\n",
    "def convert_shares(value):\n",
    "    if 'B' in value:\n",
    "        return float(value.replace('B', '')) * 1e9\n",
    "    elif 'M' in value:\n",
    "        return float(value.replace('M', '')) * 1e6\n",
    "    elif 'k' in value:\n",
    "        return float(value.replace('k', '')) * 1e3\n",
    "    else:\n",
    "        return float(value)\n",
    "\n",
    "# Apply the function to the 'shares' column\n",
    "merged_df['shares'] = merged_df['shares'].apply(convert_shares)"
   ]
  },
  {
   "cell_type": "code",
   "execution_count": null,
   "metadata": {},
   "outputs": [],
   "source": [
    "# List of columns to convert to numeric\n",
    "columns_to_numeric = [\n",
    "    '%', 'value', 'marketCap', 'enterpriseValue', 'totalCash', 'totalCashPerShare',\n",
    "    'ebitda', 'totalDebt', 'quickRatio', 'currentRatio', 'totalRevenue', 'debtToEquity',\n",
    "    'revenuePerShare', 'returnOnAssets', 'returnOnEquity', 'freeCashflow', 'operatingCashflow',\n",
    "    'earningsGrowth', 'revenueGrowth', 'grossMargins', 'ebitdaMargins', 'operatingMargins'\n",
    "]\n",
    "\n",
    "# Convert specified columns to numeric\n",
    "merged_df[columns_to_numeric] = merged_df[columns_to_numeric].apply(pd.to_numeric, errors='coerce')\n",
    "\n",
    "# Display the data types to verify the changes\n",
    "merged_df.head()\n"
   ]
  },
  {
   "cell_type": "markdown",
   "metadata": {},
   "source": [
    "# Treemap"
   ]
  },
  {
   "cell_type": "markdown",
   "metadata": {},
   "source": [
    "## Company -> Shareholder -> Details"
   ]
  },
  {
   "cell_type": "code",
   "execution_count": null,
   "metadata": {},
   "outputs": [],
   "source": [
    "# Create a tree map using plotly.express\n",
    "fig = px.treemap(\n",
    "    merged_df, \n",
    "    path=['name', 'symbol'],\n",
    "    values='value',\n",
    "    color='value', \n",
    "    hover_data=['shares'],\n",
    "    color_continuous_scale='RdBu',\n",
    "    range_color=[0, merged_df['value'].max()],\n",
    "    color_continuous_midpoint=np.average(merged_df['value'], weights=merged_df['shares'])\n",
    ")\n",
    "\n",
    "# Change the figure size\n",
    "fig.update_layout(\n",
    "    width=1000,\n",
    "    height=800\n",
    ")\n",
    "fig.show()"
   ]
  },
  {
   "cell_type": "markdown",
   "metadata": {},
   "source": [
    "# Circular Packing (?)"
   ]
  },
  {
   "cell_type": "code",
   "execution_count": null,
   "metadata": {},
   "outputs": [],
   "source": []
  },
  {
   "cell_type": "code",
   "execution_count": null,
   "metadata": {},
   "outputs": [],
   "source": []
  }
 ],
 "metadata": {
  "kernelspec": {
   "display_name": "Python 3",
   "language": "python",
   "name": "python3"
  },
  "language_info": {
   "codemirror_mode": {
    "name": "ipython",
    "version": 3
   },
   "file_extension": ".py",
   "mimetype": "text/x-python",
   "name": "python",
   "nbconvert_exporter": "python",
   "pygments_lexer": "ipython3",
   "version": "3.12.7"
  }
 },
 "nbformat": 4,
 "nbformat_minor": 2
}
