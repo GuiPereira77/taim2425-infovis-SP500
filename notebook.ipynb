{
 "cells": [
  {
   "cell_type": "markdown",
   "metadata": {},
   "source": [
    "# Dependencies"
   ]
  },
  {
   "cell_type": "code",
   "execution_count": null,
   "metadata": {},
   "outputs": [],
   "source": [
    "import pandas as pd\n",
    "import numpy as np\n",
    "import plotly.express as px\n",
    "from dash import Dash, dcc, html, Input, Output"
   ]
  },
  {
   "cell_type": "markdown",
   "metadata": {},
   "source": [
    "# Import data"
   ]
  },
  {
   "cell_type": "code",
   "execution_count": null,
   "metadata": {},
   "outputs": [],
   "source": [
    "sp500 = pd.read_excel('data/s&p500.xlsx')\n",
    "sp500_top10_holders = pd.read_excel('data/sp500_top10_holders.xlsx')"
   ]
  },
  {
   "cell_type": "code",
   "execution_count": null,
   "metadata": {},
   "outputs": [],
   "source": [
    "# Fix index and column names\n",
    "sp500.columns = sp500.iloc[0]\n",
    "sp500 = sp500[1:]\n",
    "\n",
    "sp500_top10_holders.columns = sp500_top10_holders.iloc[0]\n",
    "sp500_top10_holders = sp500_top10_holders[1:]"
   ]
  },
  {
   "cell_type": "code",
   "execution_count": null,
   "metadata": {},
   "outputs": [],
   "source": [
    "sp500.head()"
   ]
  },
  {
   "cell_type": "markdown",
   "metadata": {},
   "source": [
    "## Clean shareholders table"
   ]
  },
  {
   "cell_type": "code",
   "execution_count": null,
   "metadata": {},
   "outputs": [],
   "source": [
    "# Delete rows 'Top mutual fund holders' in 'class' column\n",
    "sp500_top10_holders = sp500_top10_holders[sp500_top10_holders['class'] != 'Top mutual fund Holders']\n",
    "sp500_top10_holders.shape\n",
    "\n",
    "# Remove duplicated rows\n",
    "sp500_top10_holders = sp500_top10_holders.drop_duplicates()\n",
    "sp500_top10_holders.shape"
   ]
  },
  {
   "cell_type": "markdown",
   "metadata": {},
   "source": [
    "## Merge Data"
   ]
  },
  {
   "cell_type": "code",
   "execution_count": null,
   "metadata": {},
   "outputs": [],
   "source": [
    "merged_df = pd.merge(sp500_top10_holders, sp500, on=['symbol', 'isin'])\n",
    "merged_df.head()"
   ]
  },
  {
   "cell_type": "code",
   "execution_count": null,
   "metadata": {},
   "outputs": [],
   "source": [
    "# merged_merged_merged_merged_df[['isin', 'symbol']].nunique()\n",
    "merged_df.shape\n"
   ]
  },
  {
   "cell_type": "markdown",
   "metadata": {},
   "source": [
    "## Companies not located on US"
   ]
  },
  {
   "cell_type": "code",
   "execution_count": null,
   "metadata": {},
   "outputs": [],
   "source": [
    "merged_df['country'].unique()"
   ]
  },
  {
   "cell_type": "markdown",
   "metadata": {},
   "source": [
    "## Convert values"
   ]
  },
  {
   "cell_type": "code",
   "execution_count": null,
   "metadata": {},
   "outputs": [],
   "source": [
    "# Function to convert values with 'B' and 'M' suffixes to numeric\n",
    "def convert_shares(value):\n",
    "    if 'B' in value:\n",
    "        return float(value.replace('B', '')) * 1e9\n",
    "    elif 'M' in value:\n",
    "        return float(value.replace('M', '')) * 1e6\n",
    "    elif 'k' in value:\n",
    "        return float(value.replace('k', '')) * 1e3\n",
    "    else:\n",
    "        return float(value)\n",
    "\n",
    "# Apply the function to the 'shares' column\n",
    "merged_df['shares'] = merged_df['shares'].apply(convert_shares)"
   ]
  },
  {
   "cell_type": "code",
   "execution_count": null,
   "metadata": {},
   "outputs": [],
   "source": [
    "# List of columns to convert to numeric\n",
    "columns_to_numeric = [\n",
    "    '%', 'value', 'marketCap', 'enterpriseValue', 'totalCash', 'totalCashPerShare',\n",
    "    'ebitda', 'totalDebt', 'quickRatio', 'currentRatio', 'totalRevenue', 'debtToEquity',\n",
    "    'revenuePerShare', 'returnOnAssets', 'returnOnEquity', 'freeCashflow', 'operatingCashflow',\n",
    "    'earningsGrowth', 'revenueGrowth', 'grossMargins', 'ebitdaMargins', 'operatingMargins'\n",
    "]\n",
    "\n",
    "# Convert specified columns to numeric\n",
    "merged_df[columns_to_numeric] = merged_df[columns_to_numeric].apply(pd.to_numeric, errors='coerce')\n",
    "\n",
    "# Display the data types to verify the changes\n",
    "merged_df.head()\n"
   ]
  },
  {
   "cell_type": "markdown",
   "metadata": {},
   "source": [
    "# Treemap"
   ]
  },
  {
   "cell_type": "markdown",
   "metadata": {},
   "source": [
    "## Sharehold -> Company -> Details"
   ]
  },
  {
   "cell_type": "code",
   "execution_count": null,
   "metadata": {},
   "outputs": [],
   "source": [
    "# Create a tree map using plotly.express\n",
    "fig = px.treemap(\n",
    "    merged_df, \n",
    "    path=['name', 'symbol'],\n",
    "    values='value',\n",
    "    color='value', \n",
    "    hover_data=['shares'],\n",
    "    color_continuous_scale='RdBu'\n",
    ")\n",
    "\n",
    "# Change the figure size\n",
    "fig.update_layout(\n",
    "    width=1000,\n",
    "    height=800\n",
    ")\n",
    "fig.show()"
   ]
  },
  {
   "cell_type": "markdown",
   "metadata": {},
   "source": [
    "# Treemap 2"
   ]
  },
  {
   "cell_type": "code",
   "execution_count": 39,
   "metadata": {},
   "outputs": [
    {
     "data": {
      "text/html": [
       "\n",
       "        <iframe\n",
       "            width=\"100%\"\n",
       "            height=\"650\"\n",
       "            src=\"http://127.0.0.1:8050/\"\n",
       "            frameborder=\"0\"\n",
       "            allowfullscreen\n",
       "            \n",
       "        ></iframe>\n",
       "        "
      ],
      "text/plain": [
       "<IPython.lib.display.IFrame at 0x24592082120>"
      ]
     },
     "metadata": {},
     "output_type": "display_data"
    }
   ],
   "source": [
    "import plotly.express as px\n",
    "\n",
    "app = Dash(__name__)\n",
    "\n",
    "app.layout = html.Div([\n",
    "    html.H4(\"Interactive TreeMap with Dash\"),\n",
    "    html.P(\"Filter options:\"),\n",
    "    dcc.RadioItems(\n",
    "        id='filter-options',\n",
    "        value='shareholder',\n",
    "        options=['shareholder', 'sector', 'industry', 'country'],\n",
    "    ),\n",
    "    dcc.Graph(id=\"graph\"),\n",
    "], style={'backgroundColor': 'white'})\n",
    "\n",
    "@app.callback(\n",
    "    Output(\"graph\", \"figure\"),\n",
    "    Input(\"filter-options\", \"value\"))\n",
    "def generate_chart(mode):\n",
    "    df = px.data.tips()  # replace with your own data source\n",
    "    if mode == 'shareholder':\n",
    "        merged_df[\"filter\"] = merged_df[\"name\"]\n",
    "    elif mode == 'sector':\n",
    "        merged_df[\"filter\"] = merged_df[\"sector\"]\n",
    "    elif mode == 'industry':\n",
    "        merged_df[\"filter\"] = merged_df[\"industry\"]\n",
    "    elif mode == 'country':\n",
    "        merged_df[\"filter\"] = merged_df[\"country\"]\n",
    "\n",
    "    fig = px.treemap(\n",
    "        merged_df,\n",
    "        path=[px.Constant(\"sp500\"), 'filter', 'symbol'],\n",
    "        values='value',\n",
    "        color='value',\n",
    "        hover_data=['shares'],\n",
    "        title=f\"Values grouped by {mode}\",\n",
    "        color_continuous_scale='RdBu'\n",
    "    )\n",
    "\n",
    "    return fig\n",
    "\n",
    "if __name__ == '__main__':\n",
    "    app.run_server(debug=True)"
   ]
  },
  {
   "cell_type": "code",
   "execution_count": null,
   "metadata": {},
   "outputs": [],
   "source": [
    "# TODO add context\n",
    "# TODO seperate notebook into 2 files: preprocessing and treemap\n",
    "# TODO make it appear in a seperate window/browser\n",
    "# TODO Shareholder -> sector\n",
    "# TODO Shareholder -> company\n",
    "# TODO change color scheme\n",
    "# TODO remove white border from squares\n",
    "# TODO card color different from background\n"
   ]
  },
  {
   "cell_type": "code",
   "execution_count": null,
   "metadata": {},
   "outputs": [],
   "source": []
  }
 ],
 "metadata": {
  "kernelspec": {
   "display_name": "Python 3",
   "language": "python",
   "name": "python3"
  },
  "language_info": {
   "codemirror_mode": {
    "name": "ipython",
    "version": 3
   },
   "file_extension": ".py",
   "mimetype": "text/x-python",
   "name": "python",
   "nbconvert_exporter": "python",
   "pygments_lexer": "ipython3",
   "version": "3.12.7"
  }
 },
 "nbformat": 4,
 "nbformat_minor": 2
}
